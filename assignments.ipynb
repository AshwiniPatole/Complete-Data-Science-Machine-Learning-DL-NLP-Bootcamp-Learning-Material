{
 "cells": [
  {
   "cell_type": "markdown",
   "metadata": {},
   "source": [
    "# Module 2: Control Flow Assignments\n",
    "## Lesson 2.1: Conditional Statements\n",
    "### Assignment 1: Simple if Statement\n",
    "\n",
    "Write a program that asks the user to input a number and prints whether the number is positive.\n",
    "\n",
    "### Assignment 2: if-else Statement\n",
    "\n",
    "Write a program that asks the user to input a number and prints whether the number is positive or negative.\n",
    "\n",
    "### Assignment 3: if-elif-else Statement\n",
    "\n",
    "Write a program that asks the user to input a number and prints whether the number is positive, negative, or zero.\n",
    "\n",
    "### Assignment 4: Nested if Statement\n",
    "\n",
    "Write a program that asks the user to input a number and prints whether the number is positive and even, positive and odd, or negative.\n",
    "\n",
    "## Lesson 2.2: Loops\n",
    "### Assignment 5: for Loop\n",
    "\n",
    "Write a program that prints all the numbers from 1 to 10 using a for loop.\n",
    "\n",
    "### Assignment 6: while Loop\n",
    "\n",
    "Write a program that prints all the numbers from 1 to 10 using a while loop.\n",
    "\n",
    "### Assignment 7: Nested Loops\n",
    "\n",
    "Write a program that prints a 5x5 grid of asterisks (*) using nested loops.\n",
    "\n",
    "### Assignment 8: break Statement\n",
    "\n",
    "Write a program that asks the user to input numbers until they input 0. The program should print the sum of all the input numbers.\n",
    "\n",
    "### Assignment 9: continue Statement\n",
    "\n",
    "Write a program that prints all the numbers from 1 to 10 except 5 using a for loop and continue statement.\n",
    "\n",
    "### Assignment 10: pass Statement\n",
    "\n",
    "Write a program that defines an empty function using the pass statement.\n",
    "\n",
    "### Assignment 11: Combining Loops and Conditionals\n",
    "\n",
    "Write a program that asks the user to input a number and prints all the even numbers from 1 to that number using a for loop.\n",
    "\n",
    "### Assignment 12: Factorial Calculation\n",
    "\n",
    "Write a program that calculates the factorial of a number input by the user using a while loop.\n",
    "\n",
    "### Assignment 13: Sum of Digits\n",
    "\n",
    "Write a program that calculates the sum of the digits of a number input by the user using a while loop.\n",
    "\n",
    "### Assignment 14: Prime Number Check\n",
    "\n",
    "Write a program that checks if a number input by the user is a prime number using a for loop.\n",
    "\n",
    "### Assignment 15: Fibonacci Sequence\n",
    "\n",
    "Write a program that prints the first n Fibonacci numbers, where n is input by the user."
   ]
  },
  {
   "cell_type": "markdown",
   "id": "ebdc96f7",
   "metadata": {},
   "source": [
    "## Lesson 2.1: Conditional Statements\n",
    "### Assignment 1: Simple if Statement\n",
    "\n",
    "Write a program that asks the user to input a number and prints whether the number is positive.\n"
   ]
  },
  {
   "cell_type": "code",
   "execution_count": null,
   "metadata": {},
   "outputs": [],
   "source": [
    "\n",
    "num= int(input(\"Enter the number\"))\n",
    "if num>0:\n",
    "    print(\"The number is positive\")\n"
   ]
  },
  {
   "cell_type": "markdown",
   "id": "869485a9",
   "metadata": {},
   "source": [
    "### Assignment 2: if-else Statement\n",
    "\n",
    "Write a program that asks the user to input a number and prints whether the number is positive or negative."
   ]
  },
  {
   "cell_type": "code",
   "execution_count": null,
   "id": "babf97a3",
   "metadata": {},
   "outputs": [
    {
     "name": "stdout",
     "output_type": "stream",
     "text": [
      "The number is positive\n"
     ]
    }
   ],
   "source": [
    "\n",
    "num2= int(input(\"Enter the number\"))\n",
    "if num2>0:\n",
    "    print(\"The number is positive\")\n",
    "else:\n",
    "    print(\"The number is negative\")"
   ]
  },
  {
   "cell_type": "markdown",
   "id": "d3de63e2",
   "metadata": {},
   "source": [
    "### Assignment 3: if-elif-else Statement\n",
    "\n",
    "Write a program that asks the user to input a number and prints whether the number is positive, negative, or zero."
   ]
  },
  {
   "cell_type": "code",
   "execution_count": 5,
   "id": "91170138",
   "metadata": {},
   "outputs": [
    {
     "name": "stdout",
     "output_type": "stream",
     "text": [
      "The number is zero\n"
     ]
    }
   ],
   "source": [
    "num3= int(input(\"Enter the number\"))\n",
    "if num3>0:\n",
    "    print(\"The number is postive\")\n",
    "elif num3<0:\n",
    "    print(\"The number is negative\")\n",
    "else:\n",
    "    print(\"The number is zero\")"
   ]
  },
  {
   "cell_type": "markdown",
   "id": "bbc0dcb3",
   "metadata": {},
   "source": [
    "### Assignment 4: Nested if Statement\n",
    "\n",
    "Write a program that asks the user to input a number and prints whether the number is positive and even, positive and odd, or negative."
   ]
  },
  {
   "cell_type": "code",
   "execution_count": 7,
   "id": "9493227e",
   "metadata": {},
   "outputs": [
    {
     "name": "stdout",
     "output_type": "stream",
     "text": [
      "The number is positive and even\n"
     ]
    }
   ],
   "source": [
    "num4= int(input(\"Enter the number\"))\n",
    "if num4>0:\n",
    "    if num4%2 ==0:\n",
    "        print(\"The number is positive and even\")\n",
    "    else:\n",
    "        print(\"The number is positive and odd\")\n",
    "else:\n",
    "    print(\"The number is negative\")\n"
   ]
  },
  {
   "cell_type": "markdown",
   "id": "922b61fc",
   "metadata": {},
   "source": [
    "## Lesson 2.2: Loops\n",
    "### Assignment 5: for Loop\n",
    "\n",
    "Write a program that prints all the numbers from 1 to 10 using a for loop.\n"
   ]
  },
  {
   "cell_type": "code",
   "execution_count": 9,
   "id": "db36dd1c",
   "metadata": {},
   "outputs": [
    {
     "name": "stdout",
     "output_type": "stream",
     "text": [
      "1\n",
      "2\n",
      "3\n",
      "4\n",
      "5\n",
      "6\n",
      "7\n",
      "8\n",
      "9\n",
      "10\n"
     ]
    }
   ],
   "source": [
    "for i in range(1,11):\n",
    "    print (i)"
   ]
  },
  {
   "cell_type": "markdown",
   "id": "f261f22f",
   "metadata": {},
   "source": [
    "### Assignment 6: while Loop\n",
    "\n",
    "Write a program that prints all the numbers from 1 to 10 using a while loop."
   ]
  },
  {
   "cell_type": "code",
   "execution_count": 10,
   "id": "93e0066c",
   "metadata": {},
   "outputs": [
    {
     "name": "stdout",
     "output_type": "stream",
     "text": [
      "1\n",
      "2\n",
      "3\n",
      "4\n",
      "5\n",
      "6\n",
      "7\n",
      "8\n",
      "9\n",
      "10\n"
     ]
    }
   ],
   "source": [
    "i=1\n",
    "while i<=10:\n",
    "    print (i) \n",
    "    i= i+1\n"
   ]
  },
  {
   "cell_type": "markdown",
   "id": "90952ae1",
   "metadata": {},
   "source": [
    "### Assignment 7: Nested Loops\n",
    "\n",
    "Write a program that prints a 5x5 grid of asterisks (*) using nested loops."
   ]
  },
  {
   "cell_type": "code",
   "execution_count": 11,
   "id": "418f6f1b",
   "metadata": {},
   "outputs": [
    {
     "name": "stdout",
     "output_type": "stream",
     "text": [
      "* * * * * \n",
      "* * * * * \n",
      "* * * * * \n",
      "* * * * * \n",
      "* * * * * \n"
     ]
    }
   ],
   "source": [
    "for i in range(5):\n",
    "    for j in range(5):\n",
    "        print(\"*\", end=\" \")\n",
    "    print()"
   ]
  },
  {
   "cell_type": "markdown",
   "id": "029657de",
   "metadata": {},
   "source": [
    "Code Breakdown:\n",
    "\n",
    "for i in range(5):\n",
    "This outer for loop runs 5 times (i takes values from 0 to 4).\n",
    "Each iteration corresponds to creating one row of asterisks.\n",
    "\n",
    "    for j in range(5):\n",
    "This inner for loop also runs 5 times for each iteration of the outer loop.\n",
    "It is responsible for printing the 5 asterisks (*) in a single row.\n",
    "\n",
    "        print(\"*\", end=\" \")\n",
    "The print(\"*\", end=\" \") prints an asterisk (*) without moving to the next line.\n",
    "The end=\" \" part specifies that a space (\" \") should be printed after each asterisk instead of the default newline (\"\\n\").\n",
    "This ensures that all 5 asterisks are printed in a single line, separated by spaces.\n",
    "\n",
    "    print()\n",
    "After the inner loop completes (i.e., 5 asterisks are printed), the print() statement moves the cursor to the next line.\n",
    "This creates the next row in the grid."
   ]
  },
  {
   "cell_type": "markdown",
   "id": "10e26f0c",
   "metadata": {},
   "source": [
    "### Assignment 8: break Statement\n",
    "\n",
    "Write a program that asks the user to input numbers until they input 0. The program should print the sum of all the input numbers."
   ]
  },
  {
   "cell_type": "code",
   "execution_count": 14,
   "id": "6cbb4e99",
   "metadata": {},
   "outputs": [
    {
     "name": "stdout",
     "output_type": "stream",
     "text": [
      "The sum of all the numbers is 10.0.\n"
     ]
    }
   ],
   "source": [
    "total = 0\n",
    "while True:\n",
    "    number = float(input(\"Enter a number (0 to stop): \"))\n",
    "    if number == 0:\n",
    "        break\n",
    "    total= total+number\n",
    "print(f\"The sum of all the numbers is {total}.\")"
   ]
  },
  {
   "cell_type": "markdown",
   "id": "cfbda5d0",
   "metadata": {},
   "source": [
    "A variable total is initialized to 0. This will store the cumulative sum of all the numbers entered by the user.\n",
    "The while True: loop creates an infinite loop, which keeps running until a break statement is encountered.\n",
    "This ensures the program repeatedly asks the user for input.\n",
    "\n",
    "number = float(input(\"Enter a number (0 to stop): \"))\n",
    "The program prompts the user to enter a number using input().\n",
    "The input is converted to a floating-point number using float() so that decimal values can also be entered.\n",
    "The user is informed (0 to stop) that entering 0 will terminate the loop.\n",
    "\n",
    "if number == 0:\n",
    "    break\n",
    "This if condition checks whether the user entered 0.\n",
    "If number == 0, the break statement is executed, which terminates the while loop, stopping further input.\n",
    "\n",
    "total = total + number\n",
    "If the user enters a number other than 0, it is added to total.\n",
    "This updates the cumulative sum of all entered numbers."
   ]
  },
  {
   "cell_type": "markdown",
   "id": "8aa54cf6",
   "metadata": {},
   "source": [
    "### Assignment 9: continue Statement\n",
    "\n",
    "Write a program that prints all the numbers from 1 to 10 except 5 using a for loop and continue statement."
   ]
  },
  {
   "cell_type": "code",
   "execution_count": 16,
   "id": "ee2e13b1",
   "metadata": {},
   "outputs": [
    {
     "name": "stdout",
     "output_type": "stream",
     "text": [
      "1\n",
      "2\n",
      "3\n",
      "4\n",
      "6\n",
      "7\n",
      "8\n",
      "9\n",
      "10\n"
     ]
    }
   ],
   "source": [
    "for i in range (1,11):\n",
    "    if i ==5:\n",
    "        continue\n",
    "    print (i)"
   ]
  },
  {
   "cell_type": "markdown",
   "id": "8403ad52",
   "metadata": {},
   "source": [
    "### Assignment 10: pass Statement\n",
    "\n",
    "Write a program that defines an empty function using the pass statement."
   ]
  },
  {
   "cell_type": "code",
   "execution_count": 17,
   "id": "bbd1efde",
   "metadata": {},
   "outputs": [],
   "source": [
    "def empty_function():\n",
    "    pass\n",
    "\n",
    "# Calling the empty function\n",
    "empty_function()"
   ]
  },
  {
   "cell_type": "markdown",
   "id": "b890e908",
   "metadata": {},
   "source": [
    "def is the keyword used to define a function in Python.\n",
    "empty_function is the name of the function.\n",
    "The parentheses () indicate that this function does not take any parameters.\n",
    "The pass statement inside the function body is a placeholder. It does nothing when the function is called and is typically used when you want to define a function but don't want it to perform any action yet (i.e., an \"empty\" function).\n",
    "Why use pass?: In Python, you need at least one statement inside a function or class. The pass statement is a \"do nothing\" placeholder that satisfies this requirement.\n",
    "\n",
    "This line calls the empty_function.\n",
    "When the function is called, Python will look for the function definition, execute its body (which in this case does nothing due to pass), and then return control to the next line in the program.\n",
    "Output:\n",
    "Since the function does nothing, there will be no output when you run the code."
   ]
  },
  {
   "cell_type": "markdown",
   "id": "23e9bde9",
   "metadata": {},
   "source": [
    "### Assignment 11: Combining Loops and Conditionals\n",
    "\n",
    "Write a program that asks the user to input a number and prints all the even numbers from 1 to that number using a for loop."
   ]
  },
  {
   "cell_type": "code",
   "execution_count": 18,
   "id": "0723dc8f",
   "metadata": {},
   "outputs": [
    {
     "name": "stdout",
     "output_type": "stream",
     "text": [
      "2\n",
      "4\n",
      "6\n"
     ]
    }
   ],
   "source": [
    "number = int(input(\"Enter a number: \"))\n",
    "for i in range(1, number + 1):\n",
    "    if i % 2 == 0:\n",
    "        print(i)"
   ]
  },
  {
   "cell_type": "markdown",
   "id": "620670bb",
   "metadata": {},
   "source": [
    "### Assignment 12: Factorial Calculation\n",
    "\n",
    "Write a program that calculates the factorial of a number input by the user using a while loop."
   ]
  },
  {
   "cell_type": "code",
   "execution_count": 20,
   "id": "91b9dcc3",
   "metadata": {},
   "outputs": [
    {
     "name": "stdout",
     "output_type": "stream",
     "text": [
      "The factorial of 2 is 2.\n"
     ]
    }
   ],
   "source": [
    "number = int(input(\"Enter a number: \"))\n",
    "factorial = 1\n",
    "i = 1\n",
    "while i <= number:\n",
    "    factorial= factorial * i\n",
    "    i= i + 1\n",
    "print(f\"The factorial of {number} is {factorial}.\")"
   ]
  },
  {
   "cell_type": "markdown",
   "id": "be96b3c8",
   "metadata": {},
   "source": [
    "#### The program starts by prompting the user to enter a number.\n",
    "#### The input() function collects the input as a string, and int() converts the string to an integer.\n",
    "#### The user input is stored in the variable number.\n",
    "#### The variable factorial is initialized to 1. This will hold the product of all numbers from 1 to number as we calculate the factorial.\n",
    "#### The variable i is initialized to 1. This will be used as the multiplier in the factorial calculation.\n",
    "#### A while loop starts here. It will run as long as i is less than or equal to number.\n",
    "#### In each iteration, the program will multiply factorial by i and increase i by 1.\n",
    "\n"
   ]
  },
  {
   "cell_type": "markdown",
   "id": "be6a25d0",
   "metadata": {},
   "source": [
    "### Assignment 13: Sum of Digits\n",
    "\n",
    "Write a program that calculates the sum of the digits of a number input by the user using a while loop."
   ]
  },
  {
   "cell_type": "code",
   "execution_count": 22,
   "id": "de9c2fbe",
   "metadata": {},
   "outputs": [
    {
     "name": "stdout",
     "output_type": "stream",
     "text": [
      "The sum of the digits is 17.\n"
     ]
    }
   ],
   "source": [
    "number = int(input(\"Enter a number: \"))\n",
    "sum_of_digits = 0\n",
    "while number > 0:\n",
    "    digit = number % 10\n",
    "    sum_of_digits += digit\n",
    "    number = number // 10\n",
    "print(f\"The sum of the digits is {sum_of_digits}.\")"
   ]
  },
  {
   "cell_type": "markdown",
   "id": "a2248777",
   "metadata": {},
   "source": [
    "The program starts by prompting the user to enter a number.\n",
    "The input() function collects the input as a string, and int() converts it into an integer.\n",
    "The user input is stored in the variable number.\n",
    "\n",
    "The variable sum_of_digits is initialized to 0. This will hold the cumulative sum of the digits as we extract them.\n",
    "A while loop begins, which will run as long as number is greater than 0.\n",
    "The loop will process each digit of the number one by one.\n",
    "\n",
    "This line uses the modulus operator (%) to extract the last digit of the number.\n",
    "The expression number % 10 gives the remainder when number is divided by 10, which is the last digit of the number.\n",
    "The extracted digit is added to the sum_of_digits variable, updating the running total of the digits.\n",
    "\n",
    "This line uses the floor division operator (//) to remove the last digit of the number.\n",
    "The expression number // 10 divides number by 10 and returns the integer part of the quotient, effectively reducing the number by one digit for the next iteration of the loop.\n",
    "\n",
    "After the loop ends (when the number becomes 0), the program prints the final sum of the digits.\n",
    "The f-string is used to format the output and display the value of sum_of_digits."
   ]
  },
  {
   "cell_type": "markdown",
   "id": "5c1a7944",
   "metadata": {},
   "source": [
    "### Assignment 14: Prime Number Check\n",
    "\n",
    "Write a program that checks if a number input by the user is a prime number using a for loop.\n"
   ]
  },
  {
   "cell_type": "code",
   "execution_count": 24,
   "id": "95ea0c4e",
   "metadata": {},
   "outputs": [
    {
     "name": "stdout",
     "output_type": "stream",
     "text": [
      "4 is not a prime number.\n"
     ]
    }
   ],
   "source": [
    "number = int(input(\"Enter a number: \"))\n",
    "is_prime = True\n",
    "if number <= 1:\n",
    "    is_prime = False\n",
    "else:\n",
    "    for i in range(2, int(number ** 0.5) + 1):\n",
    "        if number % i == 0:\n",
    "            is_prime = False\n",
    "            break\n",
    "if is_prime:\n",
    "    print(f\"{number} is a prime number.\")\n",
    "else:\n",
    "    print(f\"{number} is not a prime number.\")"
   ]
  },
  {
   "cell_type": "markdown",
   "id": "29b446dc",
   "metadata": {},
   "source": [
    "### Assignment 15: Fibonacci Sequence\n",
    "\n",
    "Write a program that prints the first n Fibonacci numbers, where n is input by the user."
   ]
  },
  {
   "cell_type": "code",
   "execution_count": 25,
   "id": "b1980f77",
   "metadata": {},
   "outputs": [
    {
     "name": "stdout",
     "output_type": "stream",
     "text": [
      "0\n",
      "1\n",
      "1\n",
      "2\n",
      "3\n"
     ]
    }
   ],
   "source": [
    "n = int(input(\"Enter the number of Fibonacci numbers to print: \"))\n",
    "a, b = 0, 1\n",
    "count = 0\n",
    "while count < n:\n",
    "    print(a)\n",
    "    a, b = b, a + b\n",
    "    count += 1"
   ]
  },
  {
   "cell_type": "markdown",
   "id": "bdfc8e73",
   "metadata": {},
   "source": [
    "The Fibonacci sequence is a series of numbers where each number is the sum of the two preceding ones. The sequence typically starts with 0 and 1. The sequence can be defined as follows:\n",
    "\n",
    "\n",
    "F(0)=0,F(1)=1,F(n)=F(n−1)+F(n−2) for n≥2\n",
    "\n",
    "Example of the Fibonacci Sequence:\n",
    "\n",
    "0,1,1,2,3,5,8,13,21,34,…\n",
    "\n",
    "The 0th number is 0\n",
    "\n",
    "The 1st number is 1\n",
    "\n",
    "The 2nd number is 1 (because 0 + 1 = 1)\n",
    "\n",
    "The 3rd number is 2 (because 1 + 1 = 2)\n",
    "\n",
    "The 4th number is 3 (because 1 + 2 = 3)\n",
    "\n",
    "The 5th number is 5 (because 2 + 3 = 5)\n",
    "\n",
    "And so on..."
   ]
  },
  {
   "cell_type": "code",
   "execution_count": null,
   "id": "60edfc30",
   "metadata": {},
   "outputs": [],
   "source": []
  }
 ],
 "metadata": {
  "kernelspec": {
   "display_name": "Python 3",
   "language": "python",
   "name": "python3"
  },
  "language_info": {
   "codemirror_mode": {
    "name": "ipython",
    "version": 3
   },
   "file_extension": ".py",
   "mimetype": "text/x-python",
   "name": "python",
   "nbconvert_exporter": "python",
   "pygments_lexer": "ipython3",
   "version": "3.12.0"
  }
 },
 "nbformat": 4,
 "nbformat_minor": 5
}
