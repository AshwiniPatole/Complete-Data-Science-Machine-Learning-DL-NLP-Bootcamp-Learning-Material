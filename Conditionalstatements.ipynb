{
 "cells": [
  {
   "cell_type": "code",
   "execution_count": null,
   "metadata": {},
   "outputs": [
    {
     "name": "stdout",
     "output_type": "stream",
     "text": [
      "You are allowed to vote in the elections\n"
     ]
    }
   ],
   "source": [
    "## if statement- evaluate condition and execute the code if its within it if condition is true\n",
    "\n",
    "age=20\n",
    "\n",
    "if age>=18:\n",
    "    print(\"You are allowed to vote in the elections\")"
   ]
  },
  {
   "cell_type": "code",
   "execution_count": 2,
   "metadata": {},
   "outputs": [
    {
     "name": "stdout",
     "output_type": "stream",
     "text": [
      "You are a minor\n"
     ]
    }
   ],
   "source": [
    "## else \n",
    "## the else statement executes the block of code if the condition in the if statement is False\n",
    "\n",
    "age=16\n",
    "\n",
    "if age>=18:\n",
    "    print(\"You are eligible for voting\")\n",
    "else:\n",
    "    print(\"You are a minor\")"
   ]
  },
  {
   "cell_type": "code",
   "execution_count": 5,
   "metadata": {},
   "outputs": [
    {
     "name": "stdout",
     "output_type": "stream",
     "text": [
      "You are a teenager\n"
     ]
    }
   ],
   "source": [
    "## elif statement\n",
    "## it allows to check multiple conditions and stands for else if\n",
    "\n",
    "age=17\n",
    "\n",
    "if age<13:\n",
    "    print(\"You are a child\")\n",
    "elif age<18:\n",
    "    print(\"You are a teenager\")\n",
    "else:\n",
    "    print(\"You are an adult\")\n"
   ]
  },
  {
   "cell_type": "code",
   "execution_count": 8,
   "metadata": {},
   "outputs": [
    {
     "name": "stdout",
     "output_type": "stream",
     "text": [
      "The number is zero or negative\n"
     ]
    }
   ],
   "source": [
    "## nested conditional statements\n",
    "## combination of one or more else, elif, if inside block another block of if, elif or else statement\n",
    "\n",
    "## number even, odd, negative\n",
    "\n",
    "num= int(input(\"Enter the number\"))\n",
    "\n",
    "if num>0:\n",
    "    print(\"The number is positive\")\n",
    "    if num%2==0:\n",
    "        print(\"The number is even\")\n",
    "    else:\n",
    "        print(\"The number is odd\")\n",
    "else:\n",
    "    print(\"The number is zero or negative\")\n",
    "\n"
   ]
  },
  {
   "cell_type": "code",
   "execution_count": null,
   "metadata": {},
   "outputs": [
    {
     "name": "stdout",
     "output_type": "stream",
     "text": [
      "The year is not a leap year\n"
     ]
    }
   ],
   "source": [
    "## Usecases- Practical examples\n",
    "\n",
    "## Determine if a year is a leap year using nested conditional statement\n",
    "\n",
    "year=int(input(\"Enter the year\"))\n",
    "\n",
    "if year%4==0:\n",
    "    print(\"The year is a leap year\")\n",
    "else:\n",
    "    print(\"The year is not a leap year\")"
   ]
  },
  {
   "cell_type": "code",
   "execution_count": 13,
   "metadata": {},
   "outputs": [
    {
     "name": "stdout",
     "output_type": "stream",
     "text": [
      "2024 is a leap year\n"
     ]
    }
   ],
   "source": [
    "year=int(input(\"Enter the year\"))\n",
    "\n",
    "if year%4==0:\n",
    "    if year%100==0:\n",
    "        if year%400==0:\n",
    "            print(year, \"is a leap year\")\n",
    "        else:\n",
    "            print(year,\"is not a leap year\")\n",
    "    else:\n",
    "        print(year,\"is a leap year\")\n",
    "else:\n",
    "    print(year,\"is not a leap year\")\n"
   ]
  },
  {
   "cell_type": "code",
   "execution_count": null,
   "metadata": {},
   "outputs": [
    {
     "name": "stdout",
     "output_type": "stream",
     "text": [
      "Result: 4.0\n"
     ]
    }
   ],
   "source": [
    "##Assignment\n",
    "## Simple Calculator\n",
    "\n",
    "num1=float(input(\"Enter the first number\"))\n",
    "num2= float(input(\"Enter the second number\"))\n",
    "operation= input(\"Enter operation (+,-,*,/):\")\n",
    "\n",
    "if operation=='+' :\n",
    "    result= num1+num2\n",
    "elif operation== '-':\n",
    "    result= num1-num2\n",
    "elif operation== '*':\n",
    "    result= num1*num2\n",
    "elif operation== '/':\n",
    "    result= num1/num2\n",
    "    if num2 !=0:  #If num2 is not equal to 0\n",
    "        result=num1/num2\n",
    "    else:\n",
    "        result= \"Error! Division by zero\"\n",
    "else:\n",
    "    result= \"Invalid Operation\"\n",
    "\n",
    "print(\"Result:\", result)\n",
    "    \n",
    "\n",
    "\n"
   ]
  },
  {
   "cell_type": "code",
   "execution_count": 20,
   "metadata": {},
   "outputs": [
    {
     "name": "stdout",
     "output_type": "stream",
     "text": [
      "Ticket Price is $18\n"
     ]
    }
   ],
   "source": [
    "## Determine ticket price based on age\n",
    "\n",
    "#Input form user\n",
    "age= int(input(\"Enter the age\"))\n",
    "is_student= input(\"Are you a student? (yes/no):\").lower()\n",
    "\n",
    "# Determine the ticket price\n",
    "if age<5:\n",
    "    price=\"Free\"\n",
    "elif age<=12:\n",
    "    price=\"$10\"\n",
    "elif age<=17:\n",
    "    if is_student=='yes':\n",
    "        price=\"$12\"\n",
    "    else:\n",
    "        price=\"$15\"\n",
    "elif age<=64:\n",
    "    if is_student==\"yes\":\n",
    "        price=\"$18\"\n",
    "    else:\n",
    "        price==\"$25\"\n",
    "else:\n",
    "    price==\"$20\"\n",
    "print(\"Ticket Price is\", price)\n"
   ]
  },
  {
   "cell_type": "code",
   "execution_count": null,
   "metadata": {},
   "outputs": [],
   "source": []
  }
 ],
 "metadata": {
  "kernelspec": {
   "display_name": "Python 3",
   "language": "python",
   "name": "python3"
  },
  "language_info": {
   "codemirror_mode": {
    "name": "ipython",
    "version": 3
   },
   "file_extension": ".py",
   "mimetype": "text/x-python",
   "name": "python",
   "nbconvert_exporter": "python",
   "pygments_lexer": "ipython3",
   "version": "3.12.0"
  }
 },
 "nbformat": 4,
 "nbformat_minor": 2
}
